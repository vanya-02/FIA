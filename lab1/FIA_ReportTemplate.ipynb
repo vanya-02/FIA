{
  "cells": [
    {
      "cell_type": "markdown",
      "id": "7d252a8d",
      "metadata": {
        "id": "7d252a8d"
      },
      "source": [
        "# FAF.FIA16.1 -- Artificial Intelligence Fundamentals\n",
        "\n",
        "> **Lab 42:** Lorem Ipsum \\\\\n",
        "> **Performed by:** Lorem Ipsum, group FAF-19x \\\\\n",
        "> **Verified by:** Mihail Gavrilita, asist. univ.\n",
        "\n",
        "\n",
        "\n"
      ]
    },
    {
      "cell_type": "markdown",
      "id": "BPiGwyyGNsHh",
      "metadata": {
        "id": "BPiGwyyGNsHh"
      },
      "source": [
        "## Imports and Utils"
      ]
    },
    {
      "cell_type": "code",
      "execution_count": null,
      "id": "533fd9fa",
      "metadata": {
        "ExecuteTime": {
          "end_time": "2022-01-23T09:47:05.838671Z",
          "start_time": "2022-01-23T09:47:05.834860Z"
        },
        "id": "533fd9fa"
      },
      "outputs": [],
      "source": [
        "# from library import function\n",
        "# import ....\n",
        "# ....."
      ]
    },
    {
      "cell_type": "markdown",
      "id": "7146ed9b",
      "metadata": {
        "id": "7146ed9b"
      },
      "source": [
        "## Task 1 -- Lorem Ipsum"
      ]
    },
    {
      "cell_type": "code",
      "execution_count": null,
      "id": "6531cedd",
      "metadata": {
        "ExecuteTime": {
          "end_time": "2022-01-23T09:47:15.094380Z",
          "start_time": "2022-01-23T09:47:15.090135Z"
        },
        "id": "6531cedd"
      },
      "outputs": [],
      "source": [
        "# Your work here"
      ]
    },
    {
      "cell_type": "markdown",
      "id": "0938e3e4",
      "metadata": {
        "id": "0938e3e4"
      },
      "source": [
        "## Task 2 -- Lorem Ipsum"
      ]
    },
    {
      "cell_type": "code",
      "execution_count": null,
      "id": "6b0859a4",
      "metadata": {
        "id": "6b0859a4"
      },
      "outputs": [],
      "source": [
        "# Your work here"
      ]
    },
    {
      "cell_type": "markdown",
      "id": "3f67a3d5",
      "metadata": {
        "id": "3f67a3d5"
      },
      "source": [
        "## Task ......"
      ]
    },
    {
      "cell_type": "code",
      "execution_count": null,
      "id": "046623ad",
      "metadata": {
        "id": "046623ad"
      },
      "outputs": [],
      "source": []
    },
    {
      "cell_type": "markdown",
      "id": "0e29d59a",
      "metadata": {
        "id": "0e29d59a"
      },
      "source": [
        "## Conclusions:"
      ]
    },
    {
      "cell_type": "markdown",
      "id": "3cclcyPqeSFL",
      "metadata": {
        "id": "3cclcyPqeSFL"
      },
      "source": [
        "*Your conclusions go here*"
      ]
    },
    {
      "cell_type": "markdown",
      "id": "rTJNie6deHsg",
      "metadata": {
        "id": "rTJNie6deHsg"
      },
      "source": [
        "## Bibliography:"
      ]
    },
    {
      "cell_type": "markdown",
      "id": "gUxrDWvseZie",
      "metadata": {
        "id": "gUxrDWvseZie"
      },
      "source": [
        "*The sources you've used go here*"
      ]
    }
  ],
  "metadata": {
    "colab": {
      "provenance": []
    },
    "kernelspec": {
      "display_name": "Python 3.10.7 64-bit",
      "language": "python",
      "name": "python3"
    },
    "language_info": {
      "codemirror_mode": {
        "name": "ipython",
        "version": 3
      },
      "file_extension": ".py",
      "mimetype": "text/x-python",
      "name": "python",
      "nbconvert_exporter": "python",
      "pygments_lexer": "ipython3",
      "version": "3.10.7"
    },
    "toc": {
      "base_numbering": 1,
      "nav_menu": {},
      "number_sections": true,
      "sideBar": true,
      "skip_h1_title": false,
      "title_cell": "Table of Contents",
      "title_sidebar": "Contents",
      "toc_cell": false,
      "toc_position": {},
      "toc_section_display": true,
      "toc_window_display": false
    },
    "vscode": {
      "interpreter": {
        "hash": "e7370f93d1d0cde622a1f8e1c04877d8463912d04d973331ad4851f04de6915a"
      }
    }
  },
  "nbformat": 4,
  "nbformat_minor": 5
}
