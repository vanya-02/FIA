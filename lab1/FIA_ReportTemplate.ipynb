{
  "cells": [
    {
      "attachments": {},
      "cell_type": "markdown",
      "id": "7d252a8d",
      "metadata": {
        "id": "7d252a8d"
      },
      "source": [
        "# FAF.FIA16.1 -- Artificial Intelligence Fundamentals\n",
        "\n",
        "> **Lab 1: FIA \\\\\n",
        "> **Performed by:** Gavirlita Ion, group FAF-191 \\\\\n",
        "> **Verified by:** Mihail Gavrilita, asist. univ.\n",
        "\n",
        "\n",
        "\n"
      ]
    },
    {
      "cell_type": "markdown",
      "id": "BPiGwyyGNsHh",
      "metadata": {
        "id": "BPiGwyyGNsHh"
      },
      "source": [
        "## Imports and Utils"
      ]
    },
    {
      "cell_type": "code",
      "execution_count": 1,
      "id": "533fd9fa",
      "metadata": {
        "ExecuteTime": {
          "end_time": "2022-01-23T09:47:05.838671Z",
          "start_time": "2022-01-23T09:47:05.834860Z"
        },
        "id": "533fd9fa"
      },
      "outputs": [],
      "source": [
        "from production import forward_chain, backward_chain\n",
        "from rules import TOURIST_RULES, TOURIST_DATA\n",
        "from rules_example_zookeeper import ZOO_DATA, ZOOKEEPER_RULES\n",
        "from production import IF, AND, THEN, OR, DELETE, NOT, FAIL"
      ]
    },
    {
      "attachments": {},
      "cell_type": "markdown",
      "id": "7146ed9b",
      "metadata": {
        "id": "7146ed9b"
      },
      "source": [
        "## Task 1 -- Define 5 types of tourists that visit Luna-City. Draw the Goal Tree representing these types of tourists."
      ]
    },
    {
      "attachments": {},
      "cell_type": "markdown",
      "id": "8cb70245",
      "metadata": {},
      "source": [
        "![](goal_tree.jpg)"
      ]
    },
    {
      "attachments": {},
      "cell_type": "markdown",
      "id": "0938e3e4",
      "metadata": {
        "id": "0938e3e4"
      },
      "source": [
        "## Task 2 -- Implement the rules from the defined tree in Task 1 in your code (use the IF, AND, OR and THEN rules which are already implemented). "
      ]
    },
    {
      "cell_type": "code",
      "execution_count": 2,
      "id": "6b0859a4",
      "metadata": {
        "id": "6b0859a4"
      },
      "outputs": [],
      "source": [
        "TOURIST_RULES = (\n",
        "\n",
        "    # 1\n",
        "    IF(\n",
        "        AND('(?x) uses a vpn', '(?x) uses public wifi'),\n",
        "        THEN('(?x) is Tourist type 1, the broke one')\n",
        "    ),\n",
        "    # 2 \n",
        "    IF(\n",
        "        AND('(?x) visits museums', '(?x) takes pictures, a LOT of pictures; 10pics/hour'),\n",
        "        THEN('(?x) is Tourist type 2, the cultured one')\n",
        "    ),\n",
        "    # 3\n",
        "    IF(\n",
        "       AND('(?x) has accent', '(?x) doesnt speak luna'),\n",
        "       THEN('(?x) Tourist type 3, the foreigner') \n",
        "    ),\n",
        "    # 4\n",
        "    IF(\n",
        "        AND('(?x) came out of an airport', '(?x) took the first waiting taxi'),\n",
        "        THEN('(?x) is Tourist tytpe 4, the newbie')\n",
        "    ),\n",
        "    # 5\n",
        "    IF(\n",
        "        AND(\n",
        "            OR('(?x) has sunglasses', '(?x) has hawaii t-shirts'), # -> on vacation\n",
        "            '(?x) stays at a hotel'\n",
        "        ),\n",
        "        THEN('(?x) is Tourist type 5, the archetype')\n",
        "    )\n",
        ")\n",
        "\n",
        "\n",
        "TOURIST_DATA = (\n",
        "    'ion uses a vpn',\n",
        "    'ion uses public wifi',\n",
        "    'ion has sunglasses',\n",
        "    'ion has hawaii t-shirts',\n",
        "    'ion stays at a hotel',\n",
        "\n",
        "    'maria uses a vpn',\n",
        "    'maria uses public wifi',\n",
        "    'maria has sunglasses',\n",
        "    'maria has hawaii t-shirts',\n",
        "    'maria stays at a hotel'\n",
        ")"
      ]
    },
    {
      "attachments": {},
      "cell_type": "markdown",
      "id": "3f67a3d5",
      "metadata": {
        "id": "3f67a3d5"
      },
      "source": [
        "## Task 3 -- If you are using the provided code, check how the Forward Chaining algorithm works and illustrate an example. If you are implementing your own code, implement the Forward Chaining algorithm yourself."
      ]
    },
    {
      "cell_type": "code",
      "execution_count": 3,
      "id": "046623ad",
      "metadata": {
        "id": "046623ad"
      },
      "outputs": [
        {
          "name": "stdout",
          "output_type": "stream",
          "text": [
            "Rule: IF(AND('(?x) uses a vpn', '(?x) uses public wifi'), THEN('(?x) is Tourist type 1, the broke one'))\n",
            "Added: maria is Tourist type 1, the broke one\n",
            "Rule: IF(AND('(?x) uses a vpn', '(?x) uses public wifi'), THEN('(?x) is Tourist type 1, the broke one'))\n",
            "Added: ion is Tourist type 1, the broke one\n",
            "Rule: IF(AND(OR('(?x) has sunglasses', '(?x) has hawaii t-shirts'), '(?x) stays at a hotel'), THEN('(?x) is Tourist type 5, the archetype'))\n",
            "Added: ion is Tourist type 5, the archetype\n",
            "Rule: IF(AND(OR('(?x) has sunglasses', '(?x) has hawaii t-shirts'), '(?x) stays at a hotel'), THEN('(?x) is Tourist type 5, the archetype'))\n",
            "Added: maria is Tourist type 5, the archetype\n",
            "\n",
            " ('ion has hawaii t-shirts', 'ion has sunglasses', 'ion is Tourist type 1, the broke one', 'ion is Tourist type 5, the archetype', 'ion stays at a hotel', 'ion uses a vpn', 'ion uses public wifi', 'maria has hawaii t-shirts', 'maria has sunglasses', 'maria is Tourist type 1, the broke one', 'maria is Tourist type 5, the archetype', 'maria stays at a hotel', 'maria uses a vpn', 'maria uses public wifi')\n"
          ]
        }
      ],
      "source": [
        "print('\\n', forward_chain(TOURIST_RULES, TOURIST_DATA, apply_only_one=True, verbose=True))"
      ]
    },
    {
      "cell_type": "code",
      "execution_count": 4,
      "id": "4c8ce65c",
      "metadata": {},
      "outputs": [
        {
          "name": "stdout",
          "output_type": "stream",
          "text": [
            "Rule: IF(AND('(?x) uses a vpn', '(?x) uses public wifi'), THEN('(?x) is Tourist type 1, the broke one'))\n",
            "Added: maria is Tourist type 1, the broke one\n",
            "Rule: IF(AND('(?x) uses a vpn', '(?x) uses public wifi'), THEN('(?x) is Tourist type 1, the broke one'))\n",
            "Added: ion is Tourist type 1, the broke one\n",
            "Rule: IF(AND(OR('(?x) has sunglasses', '(?x) has hawaii t-shirts'), '(?x) stays at a hotel'), THEN('(?x) is Tourist type 5, the archetype'))\n",
            "Added: ion is Tourist type 5, the archetype\n",
            "Rule: IF(AND(OR('(?x) has sunglasses', '(?x) has hawaii t-shirts'), '(?x) stays at a hotel'), THEN('(?x) is Tourist type 5, the archetype'))\n",
            "Added: maria is Tourist type 5, the archetype\n",
            "Rule: IF(AND(OR('(?x) has sunglasses', '(?x) has hawaii t-shirts'), '(?x) stays at a hotel'), THEN('(?x) is Tourist type 5, the archetype'))\n",
            "Added: maria is Tourist type 5, the archetype\n",
            "Rule: IF(AND(OR('(?x) has sunglasses', '(?x) has hawaii t-shirts'), '(?x) stays at a hotel'), THEN('(?x) is Tourist type 5, the archetype'))\n",
            "Added: ion is Tourist type 5, the archetype\n",
            "\n",
            " ('ion has hawaii t-shirts', 'ion has sunglasses', 'ion is Tourist type 1, the broke one', 'ion is Tourist type 5, the archetype', 'ion stays at a hotel', 'ion uses a vpn', 'ion uses public wifi', 'maria has hawaii t-shirts', 'maria has sunglasses', 'maria is Tourist type 1, the broke one', 'maria is Tourist type 5, the archetype', 'maria stays at a hotel', 'maria uses a vpn', 'maria uses public wifi')\n"
          ]
        }
      ],
      "source": [
        "print('\\n', forward_chain(TOURIST_RULES, TOURIST_DATA, apply_only_one=False, verbose=True))"
      ]
    },
    {
      "attachments": {},
      "cell_type": "markdown",
      "id": "0fbd4906",
      "metadata": {},
      "source": [
        "As seen above, with apply_only_one=True, we get: \n",
        "ion and maria as type 1, 5 \n",
        "\n",
        "with apply_only_one=False, we get:\n",
        "ion and maria as type 1 and type 5 firing twice"
      ]
    },
    {
      "attachments": {},
      "cell_type": "markdown",
      "id": "517da41e",
      "metadata": {},
      "source": [
        "## Task 4 -- Implement the Backward Chaining algorithm for the Goal Tree. "
      ]
    },
    {
      "cell_type": "code",
      "execution_count": 5,
      "id": "6910c622",
      "metadata": {},
      "outputs": [
        {
          "name": "stdout",
          "output_type": "stream",
          "text": [
            "[AND(OR('(?x) has sunglasses', '(?x) has hawaii t-shirts'), '(?x) stays at a hotel')]\n"
          ]
        }
      ],
      "source": [
        "# def backward_chain(rules, hypothesis, list_rules=None, verbose=False):\n",
        "#     \"\"\"\n",
        "#     Outputs the goal tree from having rules and hyphothesis, works like an \"encyclopedia\"\n",
        "#     \"\"\"\n",
        "\n",
        "\n",
        "#     if list_rules is None:\n",
        "#         list_rules = []\n",
        "\n",
        "#     for rule in rules:\n",
        "#         match_res = match(rule.consequent()[0], hypothesis)\n",
        "#         if match_res:\n",
        "#             list_rules.append(rule.antecedent())\n",
        "#             for antecedent in rule.antecedent():\n",
        "#                 hypothesis = populate(antecedent, match_res)\n",
        "#                 backward_chain(rules, hypothesis, list_rules, verbose)\n",
        "#     return list_rules\n",
        "\n",
        "from production import backward_chain\n",
        "print(backward_chain(TOURIST_RULES, hypothesis='vasea is Tourist type 5, the archetype', list_rules=None))\n",
        "\n",
        "# prints the goals needed for the hypothesis to be true"
      ]
    },
    {
      "attachments": {},
      "cell_type": "markdown",
      "id": "12c013d7",
      "metadata": {},
      "source": [
        "## Task 5 -- Implement a system for generating questions from the Goal Tree. Have at least 2 or 3 types of questions (e.g yes / no, multiple choice, etc)."
      ]
    },
    {
      "cell_type": "code",
      "execution_count": null,
      "id": "dcf633e6",
      "metadata": {},
      "outputs": [],
      "source": []
    },
    {
      "cell_type": "markdown",
      "id": "0e29d59a",
      "metadata": {
        "id": "0e29d59a"
      },
      "source": [
        "## Conclusions:"
      ]
    },
    {
      "cell_type": "markdown",
      "id": "3cclcyPqeSFL",
      "metadata": {
        "id": "3cclcyPqeSFL"
      },
      "source": [
        "*Your conclusions go here*"
      ]
    },
    {
      "cell_type": "markdown",
      "id": "rTJNie6deHsg",
      "metadata": {
        "id": "rTJNie6deHsg"
      },
      "source": [
        "## Bibliography:"
      ]
    },
    {
      "cell_type": "markdown",
      "id": "gUxrDWvseZie",
      "metadata": {
        "id": "gUxrDWvseZie"
      },
      "source": [
        "*The sources you've used go here*"
      ]
    }
  ],
  "metadata": {
    "colab": {
      "provenance": []
    },
    "kernelspec": {
      "display_name": "Python 3.10.7 64-bit",
      "language": "python",
      "name": "python3"
    },
    "language_info": {
      "codemirror_mode": {
        "name": "ipython",
        "version": 3
      },
      "file_extension": ".py",
      "mimetype": "text/x-python",
      "name": "python",
      "nbconvert_exporter": "python",
      "pygments_lexer": "ipython3",
      "version": "3.11.0"
    },
    "toc": {
      "base_numbering": 1,
      "nav_menu": {},
      "number_sections": true,
      "sideBar": true,
      "skip_h1_title": false,
      "title_cell": "Table of Contents",
      "title_sidebar": "Contents",
      "toc_cell": false,
      "toc_position": {},
      "toc_section_display": true,
      "toc_window_display": false
    },
    "vscode": {
      "interpreter": {
        "hash": "e7370f93d1d0cde622a1f8e1c04877d8463912d04d973331ad4851f04de6915a"
      }
    }
  },
  "nbformat": 4,
  "nbformat_minor": 5
}
