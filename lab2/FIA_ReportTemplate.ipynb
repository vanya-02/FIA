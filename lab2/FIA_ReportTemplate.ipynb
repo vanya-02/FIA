{
  "cells": [
    {
      "attachments": {},
      "cell_type": "markdown",
      "id": "7d252a8d",
      "metadata": {
        "id": "7d252a8d"
      },
      "source": [
        "# FAF.FIA16.1 -- Artificial Intelligence Fundamentals\n",
        "\n",
        "> **Lab 1: FIA \\\\\n",
        "> **Performed by:** Gavirlita Ion, group FAF-191 \\\\\n",
        "> **Verified by:** Mihail Gavrilita, asist. univ.\n",
        "\n",
        "\n",
        "\n"
      ]
    },
    {
      "cell_type": "markdown",
      "id": "BPiGwyyGNsHh",
      "metadata": {
        "id": "BPiGwyyGNsHh"
      },
      "source": [
        "## Imports and Utils"
      ]
    },
    {
      "cell_type": "code",
      "execution_count": 2,
      "id": "533fd9fa",
      "metadata": {
        "ExecuteTime": {
          "end_time": "2022-01-23T09:47:05.838671Z",
          "start_time": "2022-01-23T09:47:05.834860Z"
        },
        "id": "533fd9fa"
      },
      "outputs": [],
      "source": [
        "from utils import *"
      ]
    },
    {
      "attachments": {},
      "cell_type": "markdown",
      "id": "0938e3e4",
      "metadata": {
        "id": "0938e3e4"
      },
      "source": [
        "## Task 1 -- Implement the Vector class in Python that works on simple Python lists. The Vector class should implement the vector operations:"
      ]
    },
    {
      "cell_type": "code",
      "execution_count": 13,
      "id": "6b0859a4",
      "metadata": {
        "id": "6b0859a4"
      },
      "outputs": [
        {
          "name": "stdout",
          "output_type": "stream",
          "text": [
            "3.7416573867739413\n",
            "[5, 7, 9]\n",
            "[-3, -3, -3]\n",
            "32\n",
            "-3\n"
          ]
        }
      ],
      "source": [
        "class Vector:\n",
        "    def __init__(self, arr=None):\n",
        "        if arr is None:\n",
        "            arr = []\n",
        "        else:\n",
        "            self.vec = arr\n",
        "\n",
        "    def norm(self):\n",
        "        return math.sqrt(sum(x ** 2 for x in self.vec))\n",
        "\n",
        "    def __add__(self, other):\n",
        "        return Vector([x + y for x, y in zip(self.vec, other.vec)])\n",
        "\n",
        "    def __sub__(self, other):\n",
        "        return Vector([x - y for x, y in zip(self.vec, other.vec)])\n",
        "\n",
        "    def __mul__(self, other):\n",
        "        if isinstance(other, Vector):                \n",
        "            return sum([x * y for x, y in zip(self.vec, other.vec)])\n",
        "\n",
        "        if isinstance(other, int) or isinstance(other, float):\n",
        "            return Vector([x * other for x in self.vec])\n",
        "\n",
        "\n",
        "    def __truediv__(self, other):\n",
        "        return Vector([x / other for x in self.vec])\n",
        "\n",
        "    def __str__(self):\n",
        "        return str(self.vec)\n",
        "\n",
        "    def __repr__(self):\n",
        "        return str(self.vec)\n",
        "\n",
        "    def __abs__(self):\n",
        "        return Vector([abs(self.vec[0]), abs(self.vec[1])])\n",
        "\n",
        "    def cross_2d(self, other):\n",
        "        return self.vec[0] * other.vec[1] - self.vec[1] * other.vec[0]\n",
        "\n",
        "\n",
        "vector1 = Vector([1, 2, 3])\n",
        "vector2 = Vector([4, 5 ,6])\n",
        "\n",
        "print(vector1.norm())\n",
        "print(vector1 + vector2)\n",
        "print(vector1 - vector2)\n",
        "print(vector1 * vector2)\n",
        "print(vector1.cross_2d(vector2))"
      ]
    },
    {
      "attachments": {},
      "cell_type": "markdown",
      "id": "3f67a3d5",
      "metadata": {
        "id": "3f67a3d5"
      },
      "source": [
        "## Task 2 -- Using the Vector class and the provided paper, implement the Boid class with the steering behaviors"
      ]
    },
    {
      "cell_type": "code",
      "execution_count": null,
      "id": "d1fb47d3",
      "metadata": {},
      "outputs": [],
      "source": []
    },
    {
      "attachments": {},
      "cell_type": "markdown",
      "id": "517da41e",
      "metadata": {},
      "source": [
        "## Task 3 -- Add the calm flocking behaviour to the Boid class according to the provided paper, using the 3 steering behaviours implemented in the Task 2.\n"
      ]
    },
    {
      "cell_type": "markdown",
      "id": "af6ce28d",
      "metadata": {},
      "source": []
    },
    {
      "cell_type": "markdown",
      "id": "0e29d59a",
      "metadata": {
        "id": "0e29d59a"
      },
      "source": [
        "## Conclusions:"
      ]
    },
    {
      "cell_type": "markdown",
      "id": "3cclcyPqeSFL",
      "metadata": {
        "id": "3cclcyPqeSFL"
      },
      "source": [
        "*Your conclusions go here*"
      ]
    },
    {
      "cell_type": "markdown",
      "id": "rTJNie6deHsg",
      "metadata": {
        "id": "rTJNie6deHsg"
      },
      "source": [
        "## Bibliography:"
      ]
    },
    {
      "cell_type": "markdown",
      "id": "gUxrDWvseZie",
      "metadata": {
        "id": "gUxrDWvseZie"
      },
      "source": [
        "*The sources you've used go here*"
      ]
    }
  ],
  "metadata": {
    "colab": {
      "provenance": []
    },
    "kernelspec": {
      "display_name": "Python 3.10.7 64-bit",
      "language": "python",
      "name": "python3"
    },
    "language_info": {
      "codemirror_mode": {
        "name": "ipython",
        "version": 3
      },
      "file_extension": ".py",
      "mimetype": "text/x-python",
      "name": "python",
      "nbconvert_exporter": "python",
      "pygments_lexer": "ipython3",
      "version": "3.10.7"
    },
    "toc": {
      "base_numbering": 1,
      "nav_menu": {},
      "number_sections": true,
      "sideBar": true,
      "skip_h1_title": false,
      "title_cell": "Table of Contents",
      "title_sidebar": "Contents",
      "toc_cell": false,
      "toc_position": {},
      "toc_section_display": true,
      "toc_window_display": false
    },
    "vscode": {
      "interpreter": {
        "hash": "767d51c1340bd893661ea55ea3124f6de3c7a262a8b4abca0554b478b1e2ff90"
      }
    }
  },
  "nbformat": 4,
  "nbformat_minor": 5
}
