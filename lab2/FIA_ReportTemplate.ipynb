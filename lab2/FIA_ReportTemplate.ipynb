{
  "cells": [
    {
      "attachments": {},
      "cell_type": "markdown",
      "id": "7d252a8d",
      "metadata": {
        "id": "7d252a8d"
      },
      "source": [
        "# FAF.FIA16.1 -- Artificial Intelligence Fundamentals\n",
        "\n",
        "> **Lab 1: FIA \\\\\n",
        "> **Performed by:** Gavirlita Ion, group FAF-191 \\\\\n",
        "> **Verified by:** Mihail Gavrilita, asist. univ.\n",
        "\n",
        "\n",
        "\n"
      ]
    },
    {
      "cell_type": "markdown",
      "id": "BPiGwyyGNsHh",
      "metadata": {
        "id": "BPiGwyyGNsHh"
      },
      "source": [
        "## Imports and Utils"
      ]
    },
    {
      "cell_type": "code",
      "execution_count": 16,
      "id": "533fd9fa",
      "metadata": {
        "ExecuteTime": {
          "end_time": "2022-01-23T09:47:05.838671Z",
          "start_time": "2022-01-23T09:47:05.834860Z"
        },
        "id": "533fd9fa"
      },
      "outputs": [],
      "source": [
        "import math"
      ]
    },
    {
      "attachments": {},
      "cell_type": "markdown",
      "id": "0938e3e4",
      "metadata": {
        "id": "0938e3e4"
      },
      "source": [
        "## Task 1 -- Implement the Vector class in Python that works on simple Python lists. The Vector class should implement the vector operations:"
      ]
    },
    {
      "cell_type": "code",
      "execution_count": 17,
      "id": "6b0859a4",
      "metadata": {
        "id": "6b0859a4"
      },
      "outputs": [
        {
          "name": "stdout",
          "output_type": "stream",
          "text": [
            "3.7416573867739413\n",
            "[5, 7, 9]\n",
            "[-3, -3, -3]\n",
            "32\n",
            "-3\n"
          ]
        }
      ],
      "source": [
        "class Vector:\n",
        "    def __init__(self, arr=None):\n",
        "        if arr is None:\n",
        "            arr = []\n",
        "        self.vec = arr\n",
        "\n",
        "    def norm(self):\n",
        "        return math.sqrt(sum(x ** 2 for x in self.vec))\n",
        "\n",
        "    def __add__(self, other):\n",
        "        return Vector([x + y for x, y in zip(self.vec, other.vec)])\n",
        "\n",
        "    def __sub__(self, other):\n",
        "        return Vector([x - y for x, y in zip(self.vec, other.vec)])\n",
        "\n",
        "    def __mul__(self, other):\n",
        "        if isinstance(other, Vector):                \n",
        "            return sum([x * y for x, y in zip(self.vec, other.vec)])\n",
        "\n",
        "        if isinstance(other, int) or isinstance(other, float):\n",
        "            return Vector([x * other for x in self.vec])\n",
        "\n",
        "\n",
        "    def __truediv__(self, other):\n",
        "        return Vector([x / other for x in self.vec])\n",
        "\n",
        "    def __str__(self):\n",
        "        return str(self.vec)\n",
        "\n",
        "    def __repr__(self):\n",
        "        return str(self.vec)\n",
        "\n",
        "    def __abs__(self):\n",
        "        return Vector([abs(self.vec[0]), abs(self.vec[1])])\n",
        "\n",
        "    def cross_2d(self, other):\n",
        "        return self.vec[0] * other.vec[1] - self.vec[1] * other.vec[0]\n",
        "\n",
        "\n",
        "vector1 = Vector([1, 2, 3])\n",
        "vector2 = Vector([4, 5 ,6])\n",
        "\n",
        "print(vector1.norm())\n",
        "print(vector1 + vector2)\n",
        "print(vector1 - vector2)\n",
        "print(vector1 * vector2)\n",
        "print(vector1.cross_2d(vector2))"
      ]
    },
    {
      "attachments": {},
      "cell_type": "markdown",
      "id": "3f67a3d5",
      "metadata": {
        "id": "3f67a3d5"
      },
      "source": [
        "## Task 2 -- Using the Vector class and the provided paper, implement the Boid class with the steering behaviors"
      ]
    },
    {
      "cell_type": "code",
      "execution_count": 18,
      "id": "d1fb47d3",
      "metadata": {},
      "outputs": [],
      "source": [
        "\n",
        "class Boid:\n",
        "    def __init__(self, position_vector, velocity_vector=Vector([1,1])):\n",
        "        self.vectors = [position_vector, velocity_vector]\n",
        "        self.position = position_vector\n",
        "        self.velocity = velocity_vector\n",
        "        self.radius = 100\n",
        "        self.alignment_factor = 3.0\n",
        "        self.separation_factor = 1.0\n",
        "        self.cohesion_factor = 2.0\n",
        "\n",
        "        \n",
        "\n",
        "    def get_proximity(self, other_boid):\n",
        "        return abs(self.position - other_boid.position)\n",
        "\n",
        "    def flocking(self, vector_group):\n",
        "        self.cohesion(vector_group)\n",
        "        self.separation(vector_group)\n",
        "        self.alignment(vector_group)\n",
        "\n",
        "    # steers \n",
        "    def alignment(self, vector_group):\n",
        "        align_vec = Vector([0, 0])\n",
        "        proximity_len = 0\n",
        "        for vector in vector_group:\n",
        "            if self.vectors == vector:\n",
        "                continue\n",
        "            other_boid = Boid(vector)\n",
        "            proximity = self.get_proximity(other_boid)\n",
        "            if proximity.vec[0] <= self.radius and proximity.vec[1] <= self.radius:\n",
        "                proximity_len += 1\n",
        "                # sum of velocities\n",
        "                align_vec += other_boid.velocity\n",
        "\n",
        "        if proximity_len > 0:\n",
        "            # average velocity\n",
        "            align_vec /= proximity_len\n",
        "            align_vec /= align_vec.norm()\n",
        "            self.velocity += align_vec * self.alignment_factor\n",
        "            self.velocity /= self.velocity.norm()\n",
        "\n",
        "    def separation(self, vector_group):\n",
        "        separation_vector = Vector([0, 0])\n",
        "        proximity_len = 0\n",
        "        for coordinates in vector_group:\n",
        "            if coordinates == self.vectors:\n",
        "                continue\n",
        "\n",
        "            other_boid = Boid(coordinates)\n",
        "            proximity = self.get_proximity(other_boid)\n",
        "\n",
        "            if proximity.vec[0] <= self.radius and proximity.vec[1] <= self.radius:\n",
        "                # calculate the separation vector\n",
        "                separation_vector += (self.position - other_boid.position)\n",
        "                proximity_len += 1\n",
        "\n",
        "        if proximity_len > 0:\n",
        "            # average the separation vector and apply it to the velocity\n",
        "            separation_vector /= proximity_len\n",
        "            self.velocity += separation_vector * self.separation_factor\n",
        "            self.velocity /= self.velocity.norm()\n",
        "\n",
        "    def cohesion(self, vector_group):\n",
        "        cohesion_vec = Vector([0, 0])\n",
        "        proximity_len = 0\n",
        "        for coordinates in vector_group:\n",
        "\n",
        "            if self.vectors == coordinates:\n",
        "                continue\n",
        "\n",
        "            other_boid = Boid(coordinates)\n",
        "            proximity = self.get_proximity(other_boid)\n",
        "\n",
        "            if proximity.vec[0] <= self.radius and proximity.vec[1] <= self.radius:\n",
        "                proximity_len += 1\n",
        "                # sum of positions\n",
        "                cohesion_vec += other_boid.position\n",
        "\n",
        "        if proximity_len > 0:\n",
        "            # center of mass\n",
        "            cohesion_vec /= proximity_len\n",
        "            # cohesion vector\n",
        "            cohesion_vec -= self.position\n",
        "            self.velocity += cohesion_vec * self.cohesion_factor\n",
        "            self.velocity /= self.velocity.norm()\n"
      ]
    },
    {
      "attachments": {},
      "cell_type": "markdown",
      "id": "517da41e",
      "metadata": {},
      "source": [
        "## Task 3 -- Add the calm flocking behaviour to the Boid class according to the provided paper, using the 3 steering behaviours implemented in the Task 2.\n"
      ]
    },
    {
      "cell_type": "code",
      "execution_count": 21,
      "id": "0ae6ef40",
      "metadata": {},
      "outputs": [
        {
          "name": "stdout",
          "output_type": "stream",
          "text": [
            "[0, 0] [1, 1]\n",
            "[0, 0] [0.8366224044184944, 0.5477800219294394]\n"
          ]
        }
      ],
      "source": [
        "boid = Boid(Vector([0, 0]))\n",
        "boidz = [Vector([1, 2]), Vector([2, 1])] \n",
        "\n",
        "print(boid.position, boid.velocity) # before flocking\n",
        "boid.flocking(boidz)\n",
        "print(boid.position, boid.velocity) # after calm flocking, the velocity vector changes after running thru all 3 behaivours\n"
      ]
    },
    {
      "cell_type": "markdown",
      "id": "a11681f1",
      "metadata": {},
      "source": [
        "Change of velocity plotted bellow:"
      ]
    },
    {
      "cell_type": "markdown",
      "id": "af6ce28d",
      "metadata": {},
      "source": [
        "![](https://i.imgur.com/rQJKPuZ.png)"
      ]
    },
    {
      "cell_type": "markdown",
      "id": "0e29d59a",
      "metadata": {
        "id": "0e29d59a"
      },
      "source": [
        "## Conclusions:"
      ]
    },
    {
      "cell_type": "markdown",
      "id": "3cclcyPqeSFL",
      "metadata": {
        "id": "3cclcyPqeSFL"
      },
      "source": [
        "*Your conclusions go here*"
      ]
    },
    {
      "cell_type": "markdown",
      "id": "rTJNie6deHsg",
      "metadata": {
        "id": "rTJNie6deHsg"
      },
      "source": [
        "## Bibliography:"
      ]
    },
    {
      "cell_type": "markdown",
      "id": "gUxrDWvseZie",
      "metadata": {
        "id": "gUxrDWvseZie"
      },
      "source": [
        "*The sources you've used go here*"
      ]
    }
  ],
  "metadata": {
    "colab": {
      "provenance": []
    },
    "kernelspec": {
      "display_name": "Python 3.10.7 64-bit",
      "language": "python",
      "name": "python3"
    },
    "language_info": {
      "codemirror_mode": {
        "name": "ipython",
        "version": 3
      },
      "file_extension": ".py",
      "mimetype": "text/x-python",
      "name": "python",
      "nbconvert_exporter": "python",
      "pygments_lexer": "ipython3",
      "version": "3.10.7"
    },
    "toc": {
      "base_numbering": 1,
      "nav_menu": {},
      "number_sections": true,
      "sideBar": true,
      "skip_h1_title": false,
      "title_cell": "Table of Contents",
      "title_sidebar": "Contents",
      "toc_cell": false,
      "toc_position": {},
      "toc_section_display": true,
      "toc_window_display": false
    },
    "vscode": {
      "interpreter": {
        "hash": "767d51c1340bd893661ea55ea3124f6de3c7a262a8b4abca0554b478b1e2ff90"
      }
    }
  },
  "nbformat": 4,
  "nbformat_minor": 5
}
